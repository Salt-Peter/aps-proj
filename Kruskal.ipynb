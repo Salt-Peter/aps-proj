{
 "cells": [
  {
   "cell_type": "markdown",
   "metadata": {},
   "source": [
    "<h2 style='color:#f44'>Kruskal's minimum-spanning-tree algorithm</h2>"
   ]
  },
  {
   "cell_type": "markdown",
   "metadata": {},
   "source": [
    "![alt text](img/Kruskalimg.png)"
   ]
  },
  {
   "cell_type": "markdown",
   "metadata": {},
   "source": [
    "Kruskal's algorithm builds the minimum spanning tree in forest. Initially, each vertex is in its own tree within the forest as a single vertex is also a tree. Then, algorithm considers each edge in non increasing order of the edge weights.  \n",
    "If an edge (u, v) connects two different trees, then (u, v) is added to the set of edges of the MST, and two trees connected by an edge (u, v) are merged \n",
    "into a single tree, on the other hand, if an edge (u, v) connects two vertices in the same tree,\n",
    "then edge (u, v) is discarded."
   ]
  },
  {
   "cell_type": "markdown",
   "metadata": {},
   "source": [
    "Kruskal's algorithm requires a subroutine call to a method, to check wether adding an edge forms a cycle in the graph. Cycle in a static graph can be detected using Depth First Search in $O(V+E)$.Since the edges are added dynamically so it is more efficient to use disjoint-set data structure to ensure that adding an edge does not form a cycle rather than running an $O(V+E)$ algorithm each time an edge is added.\n",
    "\n",
    "This algorithm also uses a min-heap data structure to get the edges in $O(log v)$\n",
    "\n",
    "\n",
    "Operations supported by disjoint-set data structure :-\n",
    "\n",
    "Make_SET(v):  Creates a new set whose only member is pointed to by v. Note that for this operation v must already be in a set.\n",
    "\n",
    "FIND_SET(v):  Returns a pointer to the set containing v.\n",
    "\n",
    "UNION(u, v):  Unites the dynamic sets that contain u and v into a new set that is union of these two sets.\n",
    "\n",
    "Using both path compression, and union by rank or size ensures that the amortized time per operation is only $O( \\alpha{(n)})$  which is optimal, where  $\\alpha{(n)}$ is the inverse Ackermann function. This function has a value $\\alpha{(n)}$ <5 for any value of n that can be written in this physical universe, so the disjoint-set operations take place in essentially constant time.\n",
    "\n",
    "\n",
    "\n",
    "Algorithm :-\n",
    "\n",
    "Start with an empty set A, and select at every stage the shortest edge that has not been chosen or rejected, regardless of where this edge is situated in the graph.\n",
    "\n",
    "*KRUSKAL*(G):  \n",
    "A = NULL                           #Initially the spanning tree is empty.\n",
    "For each vertex v ∈ G.V:  \n",
    "MAKE-SET(v)                        #Initialises the disjoint-set data structure\n",
    "For each edge (u, v) ∈ G.E         #edges are extracted from the min heap\n",
    "    if FIND-SET(u) ≠ FIND-SET(v):  #Ensures that the edge does not form a cycle.      \n",
    "    A = A ∪ {(u, v)}               #Adds the edge to our spanning tree if edge does not form a cycle.\n",
    "    UNION(u, v)                    #Updates the Disjoint-set data structure\n",
    "return A                           #returns the final spanning tree\n",
    "\n",
    "\n"
   ]
  },
  {
   "cell_type": "markdown",
   "metadata": {},
   "source": [
    "\n",
    "Overall time complexity of Kruskal's MST algorithm :-\n",
    "1. Build heap takes $O(E)$, for E edges.\n",
    "2. Disjoint-set data structure takes $O(m \\alpha(n))$ for m operations, m is typically the number of edges,and alpha is a slowly growing function.\n",
    "3. Each extract-min opertaion takes $O(log E)$\n",
    "Total :-\n",
    "$O(E)$ + $O(m)$ + $O(E log E)$\n",
    "finally it is $O(E log E)$"
   ]
  },
  {
   "cell_type": "code",
   "execution_count": null,
   "metadata": {},
   "outputs": [],
   "source": []
  }
 ],
 "metadata": {
  "kernelspec": {
   "display_name": "Python 3",
   "language": "python",
   "name": "python3"
  },
  "language_info": {
   "codemirror_mode": {
    "name": "ipython",
    "version": 3
   },
   "file_extension": ".py",
   "mimetype": "text/x-python",
   "name": "python",
   "nbconvert_exporter": "python",
   "pygments_lexer": "ipython3",
   "version": "3.7.0"
  }
 },
 "nbformat": 4,
 "nbformat_minor": 2
}
