{
 "cells": [
  {
   "cell_type": "markdown",
   "metadata": {},
   "source": [
    "## van Emde Boas Tree"
   ]
  },
  {
   "cell_type": "markdown",
   "metadata": {},
   "source": [
    "### Why do we need van Emde Boas Tree?\n",
    "\n",
    "We know about many datastructures that support priority queue operations\n",
    "eg binary heaps, Red Black Trees, fibonacci heaps.\n",
    "\n",
    "But in each of these atleast one among INSERT and EXTRACT-MIN takes $\\Omega(logn)$ time.\n",
    "A verification of the above conclusion is, because all of the above data structures are based on comparison between the keys and the lower bound for comparison based sorting is $\\Omega(nlogn)$  \n",
    "if we would have been able to perform INSERT and EXTRACT-MIN in $o(logn)$ then we could \n",
    "sort n keys in o(nlogn) using heap sort (n INSERTions followed by n EXTRACT-MIN operations).\n",
    "\n",
    "But we also know that non-comparison based sorting techniques break this lower bound for sorting eg: Counting Sort takes $O(n+k)$ time to sort n elements in the range 0 to k.\n",
    "Of course it is only true when integers(keys) are in a bounded range."
   ]
  },
  {
   "cell_type": "markdown",
   "metadata": {},
   "source": [
    "So can we improve priority queue operations when keys are in a bounded range?  \n",
    "van Emde Boas Tree uses this idea to support priority-queue operations in $O(log log u)$ time\n",
    "when all keys belong to the range from 0 to u-1."
   ]
  },
  {
   "cell_type": "markdown",
   "metadata": {},
   "source": [
    "### Operations  \n",
    "\n",
    "van Emde Boas Tree supports the following operations:- \n",
    "  \n",
    "`SEARCH(S,x)` : Search for x in the set S. Returns `True` if x exists in S, `False` otherwise.\n",
    "\n",
    "`INSERT(S,x)` : Inserts element x into S.\n",
    "\n",
    "`DELETE(S,x)` : Deletes element x from S, assuming that S contains x. \n",
    "\n",
    "`MINIMUM(S)` : Returns the minimum element in the set, None if S is empty. \n",
    "\n",
    "`MAXIMUM(S)` : Returns the minimum element in the set, None if S is empty. \n",
    "\n",
    "`SUCCESSOR(S,x)` : Returns the smallest element greater that x, `None` if x = `MAXIMUM(S)`\n",
    "\n",
    "`PREDECESSOR(S,x)` : Returns the largest element smaller than x, `None` if x = `MINIMUM(S)` \n",
    "\n",
    "All these operations except MINIMUM and MAXIMUM run in $O(loglogu)$.  \n",
    "MINIMUM and MAXIMUM are O(1) time operations."
   ]
  },
  {
   "cell_type": "markdown",
   "metadata": {},
   "source": [
    "### Real world applications:-  \n",
    "- Routing packets to a subnet.\n",
    "![alt text](img/router.jpeg)\n",
    "\n",
    "Problem in routing packets :-\n",
    "\n",
    "\n",
    "We know that the IP adresses are distributed in blocks where each block is a subnet. Each subnet has some range, for example assume Router C shown above has one of its ports corresponding to subnet A which has IP addresses in the range $[ 128.23.45.0 - 128.255.255.255 ]$. \n",
    "\n",
    "Whenever a packet arriving at the router has a destination address falling in above range, this packet has to be forwarded to the port corresponding to subnet A.Eg a packet with destination IP address 128.28.67.90 arrives at Router C ,since it falls in the range of subnet A, so it will be forwarded to port corresponding to the subnet A.  \n",
    "Each router in the network may have multiple ports , and each port is used to forward the packet to a particular subnet.  \n",
    "Every time a packet arrives at the router,using subnet mask its outgoing port number is calculated ,routing table dictates the port to which the packet has to be forwarded, this takes lot of time as millions of packets are processed in the network and the processing delay includes, using masking tool to get the network id and then looking up into the routing table ,although binary search trees come to rescue but still we can get rid of $Olog(n)$ by using van Emde Boas trees in $O(log log u)$ time.\n",
    "\n",
    "Remedy :-\n",
    "\n",
    "\n",
    "Now starting IP address of each range(subnet) is a node and we are required to find the predecessor of the IP address of the arriving packet to forward the packet to a port efficiently.\n",
    "\n",
    "Eg. a packet with destination IP address 128.28.67.90 arrives at Router C ,prdecessor of this address is 128.23.45.0 which is the starting address of the subnet A, so it will be forwarded to port corresponding to the subnet A.vEB-tree makes the search exponentially faster than the BST.Successor and predecessor operations will take $O(loglogu)$ time where as balanced binary search tree takes $O(logn)$ time.  \n",
    " \n",
    "In general van Emde Boas trees can be used anywhere in place of a normal binary search tree as long as the keys in the search tree are integers in some fixed range. Thus for applications where we are required to find the integer in a set that is closest to some other integer(predecessor or successor), using a vEB-tree can potentially be faster than using a simple balanced binary search tree.\n",
    "\n",
    "As an example, of you have a linear layout of stores on some line and want to find the closest store to some particular customer, using a vEB-tree could make the search exponentially faster than the BST."
   ]
  },
  {
   "cell_type": "markdown",
   "metadata": {},
   "source": [
    "### Notations:  \n",
    "T = van Emde Boas Tree  \n",
    "n =  number of elements in vEB Tree  \n",
    "u = range of elements \\[0,u-1\\]  \n",
    "i.e., $ \\forall x \\in\\mathbb T $;   $0<=x<u$  \n",
    "For simplicity we assume that u is always an exact power of 2 i.e., $u=2^k$ where $k \\in\\mathbb Z^+$"
   ]
  },
  {
   "cell_type": "markdown",
   "metadata": {},
   "source": [
    "## Background\n",
    "Before using a van Emde Boas Tree we need to initialize the whole empty tree. For a universe of size u, space requirement of a vEB Tree is O(u) and creating such an empty tree takes O(u) time. Whereas creating an empty Red Black Tree takes constant amount of time. Therefore it would be a very bad idea to use vEB Tree when we need to perform only a small number of operations. Time spent in creating the datastructure would exceed the time spent on performing operations.\n",
    "\n",
    "The following recurrence relation characterises the running time of various operations of vEB Tree  \n",
    "T(u) = T($\\sqrt{u}$) + O(1)  \n",
    "\n",
    "\n",
    "Let m = log u,so that u = 2$^m$\n",
    "now we have  \n",
    "T(2$^m$) = T(2$^\\frac{m}{2}$) + O(1)\n",
    "\n",
    "now we rename T(2$^m$) to S(m)    \n",
    "S(m) = S($\\frac{m}{2}$) + O(1).\n",
    "\n",
    "By case 2 of the master method, this recurrence has the solution  \n",
    "S(m) = O(log m).  \n",
    "Moving back from S(m) to T(u)  \n",
    "S(m) = O(log m)  \n",
    "=> T(2$^m$) =  O(log m)  \n",
    "Replacing m = log u   \n",
    "=> T(u) = O(log log u) "
   ]
  },
  {
   "cell_type": "markdown",
   "metadata": {},
   "source": [
    "### Empty Tree Initialization\n",
    "As clear from the recurrence relation above, we are dividing the universe size u to $\\sqrt{u}$ recursively, but what if u is not of the form $2^{2^k}$ because then $\\sqrt {u}$ won't be an integer. We solve this problem as follows:-  \n",
    "Because universe size can be of the form $2^k$ for some  $k \\in\\mathbb Z^+$, and so u can be an odd power of 2 so  we divide the lg u bits of a number into the most significant ceil(logu / 2) bits and the least significant floor(logu / 2) bits.  \n",
    "Implementation wise we need to define two separate square roots.\n",
    "We define upper root as $2 ^{ceil{(log(u) / 2)}}$ and lower root as $2 ^{floor{(log(u) / 2)}}$\n",
    "```python\n",
    "upper_root = 2 ** ceil(log2(u) / 2)  # eg 4\n",
    "lower_root = 2 ** floor(log2(u) / 2)  # eg 2\n",
    "\n",
    "class VEBTree:\n",
    "    def __init__(self, u):\n",
    "        self.u = u  # eg 8\n",
    "        self.min = None\n",
    "        self.max = None\n",
    "\n",
    "        if u > 2:\n",
    "            # unless u equals base size 2,\n",
    "            # attribute summary points to a veb tree of size upper_root\n",
    "            # and each cluster in cluster [0 ... upper_root -1 ] points to vEB Trees of size lower_root.\n",
    "            # eg u = 8, upper_root = 4, lower_root = 2\n",
    "            # summary point to a veb tree of size 4\n",
    "            # cluster is an array of size 4\n",
    "            # each element of cluster points to a veb tree of size 2\n",
    "            # so cluster points to 4 veb(2) tree\n",
    "            self.summary = VEBTree(upper_root)\n",
    "            self.cluster = [VEBTree(lower_root) for _ in range(upper_root)]\n",
    "```\n",
    "\n",
    "A vEB Tree structure contains u (the universe size), min (minimum value in the tree root at that structure) , max (maximum value rooted at that structure).  \n",
    "In addition to these a non base case vEB structure also contains a summary pointer and an array of cluster pointers. Summary list contains a summary about which clusters contain atleast one key clusters themselves are vEB Trees of size $\\sqrt{u}$."
   ]
  },
  {
   "cell_type": "markdown",
   "metadata": {},
   "source": [
    "![alt text](img/comparision.png)\n"
   ]
  },
  {
   "cell_type": "markdown",
   "metadata": {},
   "source": [
    "$\\displaystyle \\left \\lceil \\frac{\\lg u}{2} \\right \\rceil$"
   ]
  },
  {
   "cell_type": "code",
   "execution_count": null,
   "metadata": {},
   "outputs": [],
   "source": []
  }
 ],
 "metadata": {
  "kernelspec": {
   "display_name": "Python 3",
   "language": "python",
   "name": "python3"
  },
  "language_info": {
   "codemirror_mode": {
    "name": "ipython",
    "version": 3
   },
   "file_extension": ".py",
   "mimetype": "text/x-python",
   "name": "python",
   "nbconvert_exporter": "python",
   "pygments_lexer": "ipython3",
   "version": "3.7.0"
  }
 },
 "nbformat": 4,
 "nbformat_minor": 2
}
