{
 "cells": [
  {
   "cell_type": "markdown",
   "metadata": {},
   "source": [
    "<h2 style='color:#f44'>van Emde Boas Tree</h2>"
   ]
  },
  {
   "cell_type": "markdown",
   "metadata": {},
   "source": [
    "Solves predecessor problem faster than a binary search tree."
   ]
  },
  {
   "cell_type": "markdown",
   "metadata": {},
   "source": [
    "### Why do we need van Emde Boas Tree?\n",
    "\n",
    "We know about many datastructures that support priority queue operations\n",
    "eg binary heaps, RBT, fibonacci heaps TODO: add more.\n",
    "\n",
    "But in each of these atleast one among INSERT and EXTRACT-MIN takes $\\Omega(logn)$ time.\n",
    "A verification of the above conclusion is, because all of the above data structures are based on comparison between the keys and the lower bound for comparison based sorting is $\\Omega(nlogn)$  \n",
    "if we would have been able to perform INSERT and EXTRACT-MIN in $o(logn)$ then we could \n",
    "sort n keys in o(nlogn) using heap sort (n INSERTions followed by n EXTRACT-MIN operations).\n",
    "\n",
    "But we also know that non-comparison based sorting techniques break this lower bound for sorting eg: Counting Sort takes $O(n+k)$ time to sort n elements in the range 0 to k.\n",
    "Of course it is only true when integers(keys) are in a bounded range."
   ]
  },
  {
   "cell_type": "markdown",
   "metadata": {},
   "source": [
    "So can we improve priority queue operations when keys are in a bounded range?\n",
    "\n",
    "van Emde Boas Tree uses this idea to support priority-queue operations in $O(log log u)$ time\n",
    "when all keys belong to the range from 0 to u-1."
   ]
  },
  {
   "cell_type": "markdown",
   "metadata": {},
   "source": [
    "### Operations\n",
    "van Emde Boas Tree supports the following operations:-  \n",
    "TODO: add DeTaIlS of all these operations.  \n",
    "SEARCH  \n",
    "INSERT  \n",
    "DELETE  \n",
    "MINIMUM  \n",
    "MAXIMUM  \n",
    "SUCCESSOR  \n",
    "PREDECESSOR  \n",
    "in $O(loglogu)$ worst case time"
   ]
  },
  {
   "cell_type": "markdown",
   "metadata": {},
   "source": [
    "### Notations:  \n",
    "T = van Emde Boas Tree  \n",
    "n =  number of elements in vEB Tree  \n",
    "u = range of elements  \n",
    "i.e., $ \\forall x \\in\\mathbb T $;   $0<=x<u$  \n",
    "For simplicity we assume that u is always an exact power of 2 i.e., $u=2^k$ where $k \\in\\mathbb Z^+$"
   ]
  },
  {
   "cell_type": "markdown",
   "metadata": {},
   "source": [
    "### Real world applications:-  \n",
    " - Routing packets to a subnet. (TODO: needs sources) (TODO: Add little explanation)\n",
    " - @lokesh Add more if possible"
   ]
  },
  {
   "cell_type": "markdown",
   "metadata": {},
   "source": [
    "We will discuss various approaches which will finally lead to vEB Tree implementation.  \n",
    "After that we will try to optimize the space complexity of vEB Tree implementation. (FIXME: or maybe not optimize)"
   ]
  },
  {
   "cell_type": "markdown",
   "metadata": {
    "tags": [
     "bad-english"
    ]
   },
   "source": [
    "#### Approach 1:\n",
    "Using lookup table (or more aptly a bit vector):  \n",
    "We have a vector of size u,so numbers in universe are in the range [0,u-1] inclusive.  \n",
    "Index of the vector corresponds to the elements in our universe.  \n",
    "vector[index] = 1 if the element belongs to our set else vector[index] = 0.  \n",
    "[Link to src/bit_vector.py](src/bit_vector.py)"
   ]
  },
  {
   "cell_type": "code",
   "execution_count": 1,
   "metadata": {
    "tags": [
     "code"
    ]
   },
   "outputs": [
    {
     "name": "stdout",
     "output_type": "stream",
     "text": [
      "False\n",
      "True\n",
      "95\n",
      "None\n"
     ]
    }
   ],
   "source": [
    "\"\"\"\n",
    "Full source at src/bit_vector.py\n",
    "arr[i] holds: 1 if element exists in our set else 0\n",
    "TC of INSERT, DELETE, MEMBER = O(1) in all case\n",
    "TC of MINIMUM, MAXIMUM, SUCCESSOR, PREDECESSOR = O(u) in Worst case\n",
    "\"\"\"\n",
    "\n",
    "u = 100  # numbers in universe. [0,99] inclusive\n",
    "arr = [0] * u  # maintain an array of u bits\n",
    "\n",
    "\n",
    "def INSERT(x):\n",
    "    arr[x] = 1\n",
    "\n",
    "    \n",
    "def MEMBER(x):\n",
    "    return arr[x] == 1\n",
    "\n",
    "\n",
    "def SUCCESSOR(x):\n",
    "    for i in range(x + 1, u):\n",
    "        if arr[i]:\n",
    "            return i\n",
    "\n",
    "\n",
    "INSERT(95)\n",
    "INSERT(2)\n",
    "INSERT(50)\n",
    "\n",
    "print(MEMBER(4))\n",
    "print(MEMBER(2))\n",
    "print(SUCCESSOR(50))\n",
    "print(SUCCESSOR(95))\n"
   ]
  },
  {
   "cell_type": "markdown",
   "metadata": {},
   "source": [
    "#### Approach 2\n",
    "Worst case of SUCCESSOR is due to the fact that we need to scan the entire array. \n",
    "We could however improve it by superimposing a binary tree on top of the bit vector.  \n",
    "TODO: @lokesh add image of superimposed tree  \n",
    "The elements bit vector forms the leaves of the tree. Every internal node of the tree contains a bit indicating whether any of its children contain a 1.  \n"
   ]
  },
  {
   "cell_type": "markdown",
   "metadata": {},
   "source": [
    "#### Approach 3\n",
    "Switching from binary tree to constant height tree"
   ]
  },
  {
   "cell_type": "markdown",
   "metadata": {},
   "source": [
    "#### Approach 4\n",
    "Proto vEB Tree  \n",
    "TODO: Solve recurrence # T(u) = T(sqrt(u)) + O(1) and similar   "
   ]
  },
  {
   "cell_type": "markdown",
   "metadata": {},
   "source": [
    "#### Approach 5\n",
    "Before using a van Emde Boas Tree we need to initialize the whole empty tree. For a universe of size u, space requirement of a vEB Tree is O(u) and creating such an empty tree takes O(u) time. Whereas creating an empty Red Black Tree (TODO: change from RBT to something similar) takes constant amount of time. Therefore it would be a very bad idea to use vEB Tree when we need to perform only a small number of operations. Time spent in creating the datastructure would exceed the time spent on performing operations."
   ]
  },
  {
   "cell_type": "code",
   "execution_count": 5,
   "metadata": {
    "tags": [
     "code"
    ]
   },
   "outputs": [
    {
     "name": "stdout",
     "output_type": "stream",
     "text": [
      "False False True True True True False True False False False False False False True True \n",
      "2 2 3 4 5 7 7 14 14 14 14 14 14 14 15 None \n",
      "7\n",
      "3\n"
     ]
    }
   ],
   "source": [
    "from math import floor, ceil, log2\n",
    "\n",
    "\n",
    "class VEBTree:\n",
    "    def __init__(self, u):\n",
    "        self.u = u  # eg 8\n",
    "        self.upper_root = 2 ** ceil(log2(u) / 2)  # eg 4\n",
    "        self.lower_root = 2 ** floor(log2(u) / 2)  # eg 2\n",
    "        self.min = None\n",
    "        self.max = None\n",
    "\n",
    "        if u == 2:\n",
    "            pass\n",
    "        else:\n",
    "            # unless u equals base size 2,\n",
    "            # attribute summary points to a veb tree of size upper_root\n",
    "            # and each cluster in cluster [0 ... upper_root -1 ] points to vEB Trees of size lower_root.\n",
    "            # eg u = 8, upper_root = 4, lower_root = 2\n",
    "            # summary point to a veb tree of size 4\n",
    "            # cluster is an array of size 4\n",
    "            # each element of cluster points to a veb tree of size 2\n",
    "            # so cluster points to 4 veb(2) tree\n",
    "            self.summary = VEBTree(self.upper_root)\n",
    "            self.cluster = [VEBTree(self.lower_root) for _ in range(self.upper_root)]\n",
    "\n",
    "    def high(self, x):\n",
    "        return floor(x / self.lower_root)\n",
    "\n",
    "    def low(self, x):\n",
    "        return x % self.lower_root\n",
    "\n",
    "    def index(self, x, y):\n",
    "        return x * self.lower_root + y\n",
    "\n",
    "\n",
    "def MINIMUM(V):\n",
    "    return V.min\n",
    "\n",
    "\n",
    "def MAXIMUM(V):\n",
    "    return V.max\n",
    "\n",
    "\n",
    "# TC = O(loglogu)\n",
    "def MEMBER(V, x):\n",
    "    if x == V.min or x == V.max:  # best case\n",
    "        return True\n",
    "    elif V.u == 2:  # base case, no further nested structure\n",
    "        return False\n",
    "\n",
    "    # else recursively go down into the vEB structure of smaller size(sqrt(u))\n",
    "    return MEMBER(V.cluster[V.high(x)], V.low(x))\n",
    "\n",
    "\n",
    "def SUCCESSOR(V, x):\n",
    "    # Base case\n",
    "    if V.u == 2:\n",
    "        # the only way that x can have a successor\n",
    "        # within a vEB(2) structure is when x = 0 and arr[1] is 1. (arr[1] is our max field)\n",
    "        if x == 0 and V.max == 1:\n",
    "            return 1\n",
    "        else:\n",
    "            return None\n",
    "\n",
    "    elif V.min is not None and x < V.min:\n",
    "        # if x is strictly less than the minimum element in our set\n",
    "        # then min would be the successor\n",
    "        # eg if x=0 and min in our set is 2 then obviously 2 is the successor of 0 (as well as 1)\n",
    "        return V.min\n",
    "\n",
    "    else:\n",
    "        max_low = MAXIMUM(V.cluster[V.high(x)])  # find the maximum element in x's cluster\n",
    "        if max_low is not None and V.low(x) < max_low:\n",
    "            # If x's cluster contains some element that is greater than x,\n",
    "            # then we know that x's successor lies somewhere within x's cluster.\n",
    "            # max_low is actually the offset (position) of max element within that cluster\n",
    "            # so we compare max_low with the offset (position) of x in its cluster\n",
    "            # eg: let x=4(0100), maximum  element in that cluster is 7(0111), so max_low will be 3(11)\n",
    "            # low(x=4) = 0(00)\n",
    "\n",
    "            offset = SUCCESSOR(V.cluster[V.high(x)], V.low(x))\n",
    "            return V.index(V.high(x), offset)\n",
    "        else:\n",
    "            succ_cluster = SUCCESSOR(V.summary, V.high(x))\n",
    "            if succ_cluster is None:\n",
    "                return None\n",
    "            else:\n",
    "                offset = MINIMUM(V.cluster[succ_cluster])\n",
    "                return V.index(succ_cluster, offset)\n",
    "\n",
    "\n",
    "def INSERT_EMPTY(V, x):\n",
    "    V.min = V.max = x\n",
    "\n",
    "\n",
    "def INSERT(V, x):\n",
    "    # V is an empty vEB Tree (Base case)\n",
    "    if V.min is None:\n",
    "        INSERT_EMPTY(V, x)\n",
    "        return\n",
    "\n",
    "    # else V is non empty\n",
    "    else:\n",
    "        if x < V.min:\n",
    "            # If x < min, then x needs to become the new min.\n",
    "            # But we don't want to lose the original min.\n",
    "            # So we need to insert it into one of V's clusters.\n",
    "\n",
    "            # exchange x and V.min\n",
    "            x, V.min = V.min, x\n",
    "            # now insert the original min (now x) into one of the V's clusters\n",
    "\n",
    "        if V.u > 2:\n",
    "            # Non base case\n",
    "\n",
    "            # check whether the cluster that x will go into is currently empty\n",
    "            # checking MINIMUM or MAXIMUM is sufficient to check for empty cluster\n",
    "            if MINIMUM(V.cluster[V.high(x)]) is None:\n",
    "                # insert x's cluster number into summary\n",
    "                INSERT(V.summary, V.high(x))\n",
    "                # insert x into the empty cluster\n",
    "                INSERT_EMPTY(V.cluster[V.high(x)], V.low(x))\n",
    "\n",
    "            else:\n",
    "                # x's cluster is not empty\n",
    "                # so we do not need to update the summary, since x's cluster number is already a member of the summary.\n",
    "\n",
    "                # insert x into its cluster\n",
    "                INSERT(V.cluster[V.high(x)], V.low(x))\n",
    "\n",
    "        # update max\n",
    "        if x > V.max:\n",
    "            V.max = x\n",
    "\n",
    "\n",
    "# assumes that x is currently an element in the set\n",
    "# represented by the vEB tree V.\n",
    "# this means if the tree contains only one key\n",
    "# then no matter what value of x you pass to delete,\n",
    "# the existing tree element will be deleted\n",
    "def DELETE(V, x):\n",
    "    # exactly one element in the tree\n",
    "    if V.min == V.max:\n",
    "        V.min = V.max = None\n",
    "\n",
    "    # Base case: set min and max to the one remaining element.\n",
    "    elif V.u == 2:\n",
    "        # if exactly 2 elements exist\n",
    "        if x == 0:  # and the key to be deleted is 0\n",
    "            # then set min and max to key 1\n",
    "            V.max = V.min = 1\n",
    "        else:  # else key to be deleted is 1\n",
    "            # so set min and max to key 0\n",
    "            V.max = V.min = 0\n",
    "\n",
    "    else:\n",
    "        # we will have to delete an element from a cluster\n",
    "\n",
    "        if x == V.min:  # we need to delete the min element\n",
    "            # but before that we need to find the new min which is some other element within one of V's clusters\n",
    "\n",
    "            # first_cluster = the cluster id that contains the lowest element other than min\n",
    "            first_cluster = MINIMUM(V.summary)  # cluster id of cluster containing new min\n",
    "\n",
    "            # x = lowest element in the found cluster\n",
    "            x = V.index(first_cluster, MINIMUM(V.cluster[first_cluster]))\n",
    "\n",
    "            # x becomes new min\n",
    "            V.min = x\n",
    "\n",
    "            # now x will be deleted from its cluster\n",
    "\n",
    "        # Now we need to delete element x from its cluster,\n",
    "        # whether x was the value originally passed to DELETE()\n",
    "        # or x is the element becoming the new minimum.\n",
    "        DELETE(V.cluster[V.high(x)], V.low(x))  # delete x from its cluster\n",
    "\n",
    "        # That cluster might now become empty\n",
    "        if MINIMUM(V.cluster[V.high(x)]) is None:\n",
    "            # if it does, then we need to remove x's cluster number from the summary,\n",
    "            DELETE(V.summary, V.high(x))\n",
    "\n",
    "            # After updating the summary, we might need to update max if x is max\n",
    "            if x == V.max:  # check whether we are deleting max element of V\n",
    "\n",
    "                # summary_max = the number of the highest numbered nonempty cluster.\n",
    "                # This works bcoz we have already recursively called DELETE on V.summary\n",
    "                # and so V.summary.max has already been updated.\n",
    "                summary_max = MAXIMUM(V.summary)\n",
    "\n",
    "                if summary_max is None:\n",
    "                    # If all of V's clusters are empty, then the only remaining element in V is min\n",
    "                    V.max = V.min  # update max accordingly\n",
    "\n",
    "                else:\n",
    "                    # else set max to the maximum element in the highest numbered cluster\n",
    "                    V.max = V.index(summary_max, MAXIMUM(V.cluster[summary_max]))\n",
    "\n",
    "        # else if the cluster did not become empty (there is at least one element in x's cluster even after deleting x.)\n",
    "        # then although we do not have to update the summary in this case, we might have to update max.\n",
    "        elif x == V.max:  # if max element was deleted, update max\n",
    "            V.max = V.index(V.high(x), MAXIMUM(V.cluster[V.high(x)]))\n",
    "\n",
    "\n",
    "if __name__ == \"__main__\":\n",
    "    V = VEBTree(u=16)\n",
    "    INSERT(V, 2)\n",
    "    INSERT(V, 3)\n",
    "    INSERT(V, 4)\n",
    "    INSERT(V, 5)\n",
    "    INSERT(V, 7)\n",
    "    INSERT(V, 14)\n",
    "    INSERT(V, 15)\n",
    "\n",
    "    for i in range(16):\n",
    "        print(MEMBER(V, i), end=\" \")\n",
    "\n",
    "    print()\n",
    "\n",
    "    for i in range(16):\n",
    "        print(SUCCESSOR(V, i), end=' ')\n",
    "\n",
    "    print()\n",
    "\n",
    "    DELETE(V, 15)\n",
    "    DELETE(V, 14)\n",
    "    print(MAXIMUM(V))\n",
    "    DELETE(V, 2)\n",
    "    print(MINIMUM(V))\n"
   ]
  },
  {
   "cell_type": "code",
   "execution_count": null,
   "metadata": {},
   "outputs": [],
   "source": []
  }
 ],
 "metadata": {
  "celltoolbar": "Tags",
  "kernelspec": {
   "display_name": "Python 3",
   "language": "python",
   "name": "python3"
  },
  "language_info": {
   "codemirror_mode": {
    "name": "ipython",
    "version": 3
   },
   "file_extension": ".py",
   "mimetype": "text/x-python",
   "name": "python",
   "nbconvert_exporter": "python",
   "pygments_lexer": "ipython3",
   "version": "3.7.0"
  }
 },
 "nbformat": 4,
 "nbformat_minor": 2
}
