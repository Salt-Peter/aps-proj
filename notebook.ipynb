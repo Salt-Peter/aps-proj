{
 "cells": [
  {
   "cell_type": "markdown",
   "metadata": {},
   "source": [
    "<h2 style='color:#f44'>van Emde Boas Tree</h2>"
   ]
  },
  {
   "cell_type": "markdown",
   "metadata": {},
   "source": [
    "Solves predecessor problem faster than a binary search tree."
   ]
  },
  {
   "cell_type": "markdown",
   "metadata": {},
   "source": [
    "### Why do we need van Emde Boas Tree?\n",
    "\n",
    "We know about many datastructures that support priority queue operations\n",
    "eg binary heaps, RBT, fibonacci heaps TODO: add more.\n",
    "\n",
    "But in each of these atleast one among INSERT and EXTRACT-MIN takes $\\Omega(logn)$ time.\n",
    "A verification of the above conclusion is, because all of the above data structures are based on \n",
    "comparison between the keys and the lower bound found comparison based sorting is $\\Omega(nlogn)$ \n",
    "if we would have been able to perform INSERT and EXTRACT-MIN in $o(logn)$ then we could \n",
    "sort n keys in o(nlogn) using heap sort (n INSERTions followed by n EXTRACT-MIN operations).\n",
    "\n",
    "But we also know that non-comparison based sorting techniques break this lower bound for sorting \n",
    "for eg: Counting Sort takes $O(n+k)$ time to sort n elements in the range 0 to k.\n",
    "Of course it is only true when integers(keys) are in a bounded range."
   ]
  },
  {
   "cell_type": "markdown",
   "metadata": {},
   "source": [
    "So can we improve priority queue operations when keys are in a bounded range?\n",
    "\n",
    "van Emde Boas Tree uses this idea to support priority-queue operations in $O(log log u)$ time\n",
    "when all keys belong to the range from 0 to u-1."
   ]
  },
  {
   "cell_type": "markdown",
   "metadata": {},
   "source": [
    "### Operations\n",
    "van Emde Boas Tree supports the following operations:-  \n",
    "TODO: add DeTaIlS of all these operations.  \n",
    "SEARCH  \n",
    "INSERT  \n",
    "DELETE  \n",
    "MINIMUM  \n",
    "MAXIMUM  \n",
    "SUCCESSOR  \n",
    "PREDECESSOR  \n",
    "in $O(loglogu)$ worst case time\n"
   ]
  },
  {
   "cell_type": "markdown",
   "metadata": {},
   "source": [
    "### Notations:  \n",
    "vEB = van Emde Boas Tree  \n",
    "n =  number of elements in vEB Tree  \n",
    "u = range of elements  \n",
    "i.e., $ \\forall x \\in\\mathbb vEBTree $;   $0<=x<u$   :FIXME: 'v' of vEBTree looks different  \n",
    "For simplicity we assume that u is always an exact power of 2 i.e., $u=2^k$ where $k \\in\\mathbb Z^+$"
   ]
  },
  {
   "cell_type": "markdown",
   "metadata": {},
   "source": [
    "### Real world applications:-  \n",
    " - Routing packets to a subnet. (TODO: needs sources) (TODO: Add little explanation)\n",
    " - @lokesh Add more if possible\n",
    " "
   ]
  },
  {
   "cell_type": "markdown",
   "metadata": {},
   "source": [
    "We will discuss various approaches which will finally lead to vEB Tree implementation.  \n",
    "After that we will try to optimize the space complexity of vEB Tree implementation. (FIXME: or maybe not do so)\n"
   ]
  },
  {
   "cell_type": "markdown",
   "metadata": {},
   "source": [
    "#### Approach 1:\n",
    "Using lookup table (or more aptly a bit vector):\n",
    "We maintain a vector of size u where "
   ]
  }
 ],
 "metadata": {
  "kernelspec": {
   "display_name": "Python 3",
   "language": "python",
   "name": "python3"
  },
  "language_info": {
   "codemirror_mode": {
    "name": "ipython",
    "version": 3
   },
   "file_extension": ".py",
   "mimetype": "text/x-python",
   "name": "python",
   "nbconvert_exporter": "python",
   "pygments_lexer": "ipython3",
   "version": "3.7.0"
  }
 },
 "nbformat": 4,
 "nbformat_minor": 2
}
