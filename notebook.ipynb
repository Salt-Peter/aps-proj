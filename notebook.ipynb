{
 "cells": [
  {
   "cell_type": "markdown",
   "metadata": {},
   "source": [
    "<h2 style='color:#f44'>van Emde Boas Tree</h2>"
   ]
  },
  {
   "cell_type": "markdown",
   "metadata": {},
   "source": [
    "Solves predecessor problem faster than a binary search tree."
   ]
  },
  {
   "cell_type": "markdown",
   "metadata": {},
   "source": [
    "### Why do we need van Emde Boas Tree?\n",
    "\n",
    "We know about many datastructures that support priority queue operations\n",
    "eg binary heaps, RBT, fibonacci heaps TODO: add more.\n",
    "\n",
    "But in each of these atleast one among INSERT and EXTRACT-MIN takes $\\Omega(logn)$ time.\n",
    "A verification of the above conclusion is, because all of the above data structures are based on comparison between the keys and the lower bound for comparison based sorting is $\\Omega(nlogn)$  \n",
    "if we would have been able to perform INSERT and EXTRACT-MIN in $o(logn)$ then we could \n",
    "sort n keys in o(nlogn) using heap sort (n INSERTions followed by n EXTRACT-MIN operations).\n",
    "\n",
    "But we also know that non-comparison based sorting techniques break this lower bound for sorting eg: Counting Sort takes $O(n+k)$ time to sort n elements in the range 0 to k.\n",
    "Of course it is only true when integers(keys) are in a bounded range."
   ]
  },
  {
   "cell_type": "markdown",
   "metadata": {},
   "source": [
    "So can we improve priority queue operations when keys are in a bounded range?\n",
    "\n",
    "van Emde Boas Tree uses this idea to support priority-queue operations in $O(log log u)$ time\n",
    "when all keys belong to the range from 0 to u-1."
   ]
  },
  {
   "cell_type": "markdown",
   "metadata": {},
   "source": [
    "### Operations\n",
    "van Emde Boas Tree supports the following operations:-  \n",
    "TODO: add DeTaIlS of all these operations.  \n",
    "SEARCH  \n",
    "INSERT  \n",
    "DELETE  \n",
    "MINIMUM  \n",
    "MAXIMUM  \n",
    "SUCCESSOR  \n",
    "PREDECESSOR  \n",
    "in $O(loglogu)$ worst case time"
   ]
  },
  {
   "cell_type": "markdown",
   "metadata": {},
   "source": [
    "### Notations:  \n",
    "T = van Emde Boas Tree  \n",
    "n =  number of elements in vEB Tree  \n",
    "u = range of elements  \n",
    "i.e., $ \\forall x \\in\\mathbb T $;   $0<=x<u$  \n",
    "For simplicity we assume that u is always an exact power of 2 i.e., $u=2^k$ where $k \\in\\mathbb Z^+$"
   ]
  },
  {
   "cell_type": "markdown",
   "metadata": {},
   "source": [
    "### Real world applications:-  \n",
    " - Routing packets to a subnet. (TODO: needs sources) (TODO: Add little explanation)\n",
    " - @lokesh Add more if possible"
   ]
  },
  {
   "cell_type": "markdown",
   "metadata": {},
   "source": [
    "We will discuss various approaches which will finally lead to vEB Tree implementation.  \n",
    "After that we will try to optimize the space complexity of vEB Tree implementation. (FIXME: or maybe not optimize)"
   ]
  },
  {
   "cell_type": "markdown",
   "metadata": {
    "tags": [
     "bad-english"
    ]
   },
   "source": [
    "#### Approach 1:\n",
    "Using lookup table (or more aptly a bit vector):  \n",
    "We have a vector of size u,so numbers in universe are in the range [0,u-1] inclusive.  \n",
    "Index of the vector corresponds to the elements in our universe.  \n",
    "vector[index] = 1 if the element belongs to our set else vector[index] = 0.  \n",
    "[Link to src/bit_vector.py](src/bit_vector.py)"
   ]
  },
  {
   "cell_type": "code",
   "execution_count": 1,
   "metadata": {
    "tags": [
     "code"
    ]
   },
   "outputs": [],
   "source": [
    "\"\"\"\n",
    "Full source at src/bit_vector.py\n",
    "arr[i] holds: 1 if element exists in our set else 0\n",
    "TC of INSERT, DELETE, MEMBER = O(1) in all case\n",
    "TC of MINIMUM, MAXIMUM, SUCCESSOR, PREDECESSOR = O(u) in Worst case\n",
    "\"\"\"\n",
    "\n",
    "u = 100  # numbers in universe. [0,99] inclusive\n",
    "arr = [0] * u  # maintain an array of u bits\n",
    "\n",
    "\n",
    "def INSERT(x):\n",
    "    arr[x] = 1\n",
    "\n",
    "    \n",
    "def MEMBER(x):\n",
    "    return arr[x] == 1\n",
    "\n",
    "\n",
    "def SUCCESSOR(x):\n",
    "    for i in range(x + 1, u):\n",
    "        if arr[i]:\n",
    "            return i\n",
    "\n",
    "\n",
    "INSERT(95)\n",
    "INSERT(2)\n",
    "INSERT(50)\n",
    "\n",
    "print(MEMBER(4))\n",
    "print(MEMBER(2))\n",
    "print(SUCCESSOR(50))\n",
    "print(SUCCESSOR(95))\n"
   ]
  },
  {
   "cell_type": "markdown",
   "metadata": {},
   "source": [
    "#### Approach 2\n",
    "Worst case of SUCCESSOR is due to the fact that we need to scan the entire array. \n",
    "We could however improve it by superimposing a binary tree on top of the bit vector.  \n",
    "TODO: @lokesh add image of superimposed tree  \n",
    "The elements bit vector forms the leaves of the tree. Every internal node of the tree contains a bit indicating whether any of its children contain a 1.  \n"
   ]
  },
  {
   "cell_type": "markdown",
   "metadata": {},
   "source": [
    "#### Approach 3\n",
    "Switching from binary tree to constant height tree"
   ]
  },
  {
   "cell_type": "markdown",
   "metadata": {},
   "source": [
    "#### Approach 4\n",
    "Proto vEB Tree  \n",
    "TODO: Solve recurrence # T(u) = T(sqrt(u)) + O(1) and similar   "
   ]
  },
  {
   "cell_type": "code",
   "execution_count": null,
   "metadata": {},
   "outputs": [],
   "source": []
  }
 ],
 "metadata": {
  "celltoolbar": "Tags",
  "kernelspec": {
   "display_name": "Python 3",
   "language": "python",
   "name": "python3"
  },
  "language_info": {
   "codemirror_mode": {
    "name": "ipython",
    "version": 3
   },
   "file_extension": ".py",
   "mimetype": "text/x-python",
   "name": "python",
   "nbconvert_exporter": "python",
   "pygments_lexer": "ipython3",
   "version": "3.7.0"
  }
 },
 "nbformat": 4,
 "nbformat_minor": 2
}
